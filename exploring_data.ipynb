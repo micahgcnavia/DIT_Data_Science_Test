{
 "cells": [
  {
   "cell_type": "markdown",
   "metadata": {},
   "source": [
    "# **DIT Test**\n",
    "\n",
    "# Exploring the data with Jupyter Notebook\n",
    "\n",
    "Author: Micah Guimarães do Carmo Navia\n",
    "\n",
    "Contact: <a href='mailto:micahgcnavia@gmail.com'>micahgcnavia@gmail.com</a>\n",
    "\n",
    "## Objectives\n",
    "\n",
    "In this notebook I intend to:\n",
    "\n",
    "*   Load the data\n",
    "*   Explore and understand what each column means\n",
    "*   Identify problems and guess what was the possible cause for each case\n",
    "*   Find the best way to solve the problems\n",
    "*   Retrieve the result set into a pandas dataframe ready for analysis\n",
    "*   Deploy the transformations as a .py file for automation\n"
   ]
  },
  {
   "cell_type": "markdown",
   "metadata": {},
   "source": [
    "---"
   ]
  },
  {
   "cell_type": "markdown",
   "metadata": {},
   "source": [
    "Loading useful packages"
   ]
  },
  {
   "cell_type": "code",
   "execution_count": 1,
   "metadata": {},
   "outputs": [],
   "source": [
    "import pandas as pd\n",
    "import matplotlib.pyplot as plt\n",
    "import seaborn as sns\n",
    "import numpy as np\n",
    "import re\n",
    "import ast\n",
    "import uuid\n",
    "from fractions import Fraction"
   ]
  },
  {
   "cell_type": "markdown",
   "metadata": {},
   "source": [
    "Loading database"
   ]
  },
  {
   "cell_type": "code",
   "execution_count": 2,
   "metadata": {},
   "outputs": [
    {
     "name": "stdout",
     "output_type": "stream",
     "text": [
      "Table loaded with success.\n"
     ]
    }
   ],
   "source": [
    "url = \"https://drive.google.com/file/d/1dWC1ZUPNlCQBalYPY8uP4Zzs0aue9nkQ/view?usp=sharing\"\n",
    "path = 'https://drive.google.com/uc?export=download&id='+url.split('/')[-2]\n",
    "\n",
    "try:\n",
    "    df = pd.read_csv(path)\n",
    "    print('Table loaded with success.')\n",
    "\n",
    "except:\n",
    "    print('Error when loading the table. Please contact the author to solve this issue.')"
   ]
  },
  {
   "cell_type": "markdown",
   "metadata": {},
   "source": [
    "## Initial analysis"
   ]
  },
  {
   "cell_type": "code",
   "execution_count": 3,
   "metadata": {},
   "outputs": [
    {
     "data": {
      "text/plain": [
       "Index(['id_paciente', 'sexo', 'obito', 'bairro', 'raca_cor', 'ocupacao',\n",
       "       'religiao', 'luz_eletrica', 'data_cadastro', 'escolaridade',\n",
       "       'nacionalidade', 'renda_familiar', 'data_nascimento',\n",
       "       'em_situacao_de_rua', 'frequenta_escola', 'meios_transporte',\n",
       "       'doencas_condicoes', 'identidade_genero', 'meios_comunicacao',\n",
       "       'orientacao_sexual', 'possui_plano_saude', 'em_caso_doenca_procura',\n",
       "       'situacao_profissional', 'vulnerabilidade_social',\n",
       "       'data_atualizacao_cadastro', 'familia_beneficiaria_auxilio_brasil',\n",
       "       'crianca_matriculada_creche_pre_escola', 'altura', 'peso',\n",
       "       'pressao_sistolica', 'pressao_diastolica',\n",
       "       'n_atendimentos_atencao_primaria', 'n_atendimentos_hospital',\n",
       "       'updated_at', 'tipo'],\n",
       "      dtype='object')"
      ]
     },
     "execution_count": 3,
     "metadata": {},
     "output_type": "execute_result"
    }
   ],
   "source": [
    "# Let's take a look at the columns\n",
    "\n",
    "df.columns"
   ]
  },
  {
   "cell_type": "code",
   "execution_count": 5,
   "metadata": {},
   "outputs": [
    {
     "data": {
      "text/html": [
       "<div>\n",
       "<style scoped>\n",
       "    .dataframe tbody tr th:only-of-type {\n",
       "        vertical-align: middle;\n",
       "    }\n",
       "\n",
       "    .dataframe tbody tr th {\n",
       "        vertical-align: top;\n",
       "    }\n",
       "\n",
       "    .dataframe thead th {\n",
       "        text-align: right;\n",
       "    }\n",
       "</style>\n",
       "<table border=\"1\" class=\"dataframe\">\n",
       "  <thead>\n",
       "    <tr style=\"text-align: right;\">\n",
       "      <th></th>\n",
       "      <th>id_paciente</th>\n",
       "      <th>sexo</th>\n",
       "      <th>obito</th>\n",
       "      <th>bairro</th>\n",
       "      <th>raca_cor</th>\n",
       "      <th>ocupacao</th>\n",
       "      <th>religiao</th>\n",
       "      <th>luz_eletrica</th>\n",
       "      <th>data_cadastro</th>\n",
       "      <th>escolaridade</th>\n",
       "      <th>...</th>\n",
       "      <th>familia_beneficiaria_auxilio_brasil</th>\n",
       "      <th>crianca_matriculada_creche_pre_escola</th>\n",
       "      <th>altura</th>\n",
       "      <th>peso</th>\n",
       "      <th>pressao_sistolica</th>\n",
       "      <th>pressao_diastolica</th>\n",
       "      <th>n_atendimentos_atencao_primaria</th>\n",
       "      <th>n_atendimentos_hospital</th>\n",
       "      <th>updated_at</th>\n",
       "      <th>tipo</th>\n",
       "    </tr>\n",
       "  </thead>\n",
       "  <tbody>\n",
       "    <tr>\n",
       "      <th>0</th>\n",
       "      <td>cd6daa6e-038d-4952-af29-579e62e07f97</td>\n",
       "      <td>male</td>\n",
       "      <td>0</td>\n",
       "      <td>Parada de Lucas</td>\n",
       "      <td>Branca</td>\n",
       "      <td>Não se aplica</td>\n",
       "      <td>Sem religião</td>\n",
       "      <td>True</td>\n",
       "      <td>2021-06-24 00:00:00.000</td>\n",
       "      <td>Fundamental Incompleto</td>\n",
       "      <td>...</td>\n",
       "      <td>0</td>\n",
       "      <td>0</td>\n",
       "      <td>172.0</td>\n",
       "      <td>52.5</td>\n",
       "      <td>110.0</td>\n",
       "      <td>70.0</td>\n",
       "      <td>8</td>\n",
       "      <td>9</td>\n",
       "      <td>2021-06-01 00:00:00.000</td>\n",
       "      <td>historico</td>\n",
       "    </tr>\n",
       "    <tr>\n",
       "      <th>1</th>\n",
       "      <td>ad6cecb2-3a44-49ab-b2f3-6f9ffc2e2ec7</td>\n",
       "      <td>male</td>\n",
       "      <td>0</td>\n",
       "      <td>Cidade Nova</td>\n",
       "      <td>Parda</td>\n",
       "      <td>Assistente Administrativo</td>\n",
       "      <td>Evangélica</td>\n",
       "      <td>1</td>\n",
       "      <td>2021-01-07 00:00:00.000</td>\n",
       "      <td>Médio Incompleto</td>\n",
       "      <td>...</td>\n",
       "      <td>1</td>\n",
       "      <td>0</td>\n",
       "      <td>158.0</td>\n",
       "      <td>76.2</td>\n",
       "      <td>140.0</td>\n",
       "      <td>80.0</td>\n",
       "      <td>0</td>\n",
       "      <td>6</td>\n",
       "      <td>2020-06-25 00:00:00.000</td>\n",
       "      <td>historico</td>\n",
       "    </tr>\n",
       "    <tr>\n",
       "      <th>2</th>\n",
       "      <td>54e834e7-e722-4daa-8909-cf917a1247e6</td>\n",
       "      <td>male</td>\n",
       "      <td>0</td>\n",
       "      <td>Santa cruz</td>\n",
       "      <td>Parda</td>\n",
       "      <td>Não se aplica</td>\n",
       "      <td>Católica</td>\n",
       "      <td>1</td>\n",
       "      <td>2021-02-18 00:00:00.000</td>\n",
       "      <td>Fundamental Completo</td>\n",
       "      <td>...</td>\n",
       "      <td>0</td>\n",
       "      <td>0</td>\n",
       "      <td>53.0</td>\n",
       "      <td>82.5</td>\n",
       "      <td>180.0</td>\n",
       "      <td>60.0</td>\n",
       "      <td>5</td>\n",
       "      <td>2</td>\n",
       "      <td>2020-03-02 00:00:00.000</td>\n",
       "      <td>historico</td>\n",
       "    </tr>\n",
       "    <tr>\n",
       "      <th>3</th>\n",
       "      <td>c6a71e5e-0933-48d1-9d5a-8f448dc37f71</td>\n",
       "      <td>female</td>\n",
       "      <td>False</td>\n",
       "      <td>Bangu</td>\n",
       "      <td>Branca</td>\n",
       "      <td>Representante Comercial Autônomo</td>\n",
       "      <td>Sem religião</td>\n",
       "      <td>1</td>\n",
       "      <td>2022-03-09 10:40:37</td>\n",
       "      <td>Alfabetizado</td>\n",
       "      <td>...</td>\n",
       "      <td>1</td>\n",
       "      <td>1</td>\n",
       "      <td>164.0</td>\n",
       "      <td>90.6</td>\n",
       "      <td>120.0</td>\n",
       "      <td>70.0</td>\n",
       "      <td>0</td>\n",
       "      <td>27</td>\n",
       "      <td>2021-11-05 11:08:17.477</td>\n",
       "      <td>rotineiro</td>\n",
       "    </tr>\n",
       "    <tr>\n",
       "      <th>4</th>\n",
       "      <td>d5262a3c-e5d3-4195-a46b-0acd2533e1d6</td>\n",
       "      <td>male</td>\n",
       "      <td>0</td>\n",
       "      <td>Santíssimo</td>\n",
       "      <td>Branca</td>\n",
       "      <td>Técnico Eletricista</td>\n",
       "      <td>Outra</td>\n",
       "      <td>True</td>\n",
       "      <td>2022-12-13 18:30:45</td>\n",
       "      <td>Médio Completo</td>\n",
       "      <td>...</td>\n",
       "      <td>0</td>\n",
       "      <td>0</td>\n",
       "      <td>154.0</td>\n",
       "      <td>8.5</td>\n",
       "      <td>180.0</td>\n",
       "      <td>80.0</td>\n",
       "      <td>25</td>\n",
       "      <td>0</td>\n",
       "      <td>2020-11-11 00:00:00.000</td>\n",
       "      <td>historico</td>\n",
       "    </tr>\n",
       "  </tbody>\n",
       "</table>\n",
       "<p>5 rows × 35 columns</p>\n",
       "</div>"
      ],
      "text/plain": [
       "                            id_paciente    sexo  obito           bairro  \\\n",
       "0  cd6daa6e-038d-4952-af29-579e62e07f97    male      0  Parada de Lucas   \n",
       "1  ad6cecb2-3a44-49ab-b2f3-6f9ffc2e2ec7    male      0      Cidade Nova   \n",
       "2  54e834e7-e722-4daa-8909-cf917a1247e6    male      0       Santa cruz   \n",
       "3  c6a71e5e-0933-48d1-9d5a-8f448dc37f71  female  False            Bangu   \n",
       "4  d5262a3c-e5d3-4195-a46b-0acd2533e1d6    male      0       Santíssimo   \n",
       "\n",
       "  raca_cor                          ocupacao      religiao luz_eletrica  \\\n",
       "0   Branca                     Não se aplica  Sem religião         True   \n",
       "1    Parda         Assistente Administrativo    Evangélica            1   \n",
       "2    Parda                     Não se aplica      Católica            1   \n",
       "3   Branca  Representante Comercial Autônomo  Sem religião            1   \n",
       "4   Branca               Técnico Eletricista         Outra         True   \n",
       "\n",
       "             data_cadastro            escolaridade  ...  \\\n",
       "0  2021-06-24 00:00:00.000  Fundamental Incompleto  ...   \n",
       "1  2021-01-07 00:00:00.000        Médio Incompleto  ...   \n",
       "2  2021-02-18 00:00:00.000    Fundamental Completo  ...   \n",
       "3      2022-03-09 10:40:37            Alfabetizado  ...   \n",
       "4      2022-12-13 18:30:45          Médio Completo  ...   \n",
       "\n",
       "  familia_beneficiaria_auxilio_brasil crianca_matriculada_creche_pre_escola  \\\n",
       "0                                   0                                     0   \n",
       "1                                   1                                     0   \n",
       "2                                   0                                     0   \n",
       "3                                   1                                     1   \n",
       "4                                   0                                     0   \n",
       "\n",
       "  altura  peso  pressao_sistolica pressao_diastolica  \\\n",
       "0  172.0  52.5              110.0               70.0   \n",
       "1  158.0  76.2              140.0               80.0   \n",
       "2   53.0  82.5              180.0               60.0   \n",
       "3  164.0  90.6              120.0               70.0   \n",
       "4  154.0   8.5              180.0               80.0   \n",
       "\n",
       "  n_atendimentos_atencao_primaria n_atendimentos_hospital  \\\n",
       "0                               8                       9   \n",
       "1                               0                       6   \n",
       "2                               5                       2   \n",
       "3                               0                      27   \n",
       "4                              25                       0   \n",
       "\n",
       "                updated_at       tipo  \n",
       "0  2021-06-01 00:00:00.000  historico  \n",
       "1  2020-06-25 00:00:00.000  historico  \n",
       "2  2020-03-02 00:00:00.000  historico  \n",
       "3  2021-11-05 11:08:17.477  rotineiro  \n",
       "4  2020-11-11 00:00:00.000  historico  \n",
       "\n",
       "[5 rows x 35 columns]"
      ]
     },
     "execution_count": 5,
     "metadata": {},
     "output_type": "execute_result"
    }
   ],
   "source": [
    "df.head()"
   ]
  },
  {
   "cell_type": "code",
   "execution_count": 4,
   "metadata": {},
   "outputs": [
    {
     "data": {
      "text/html": [
       "<div>\n",
       "<style scoped>\n",
       "    .dataframe tbody tr th:only-of-type {\n",
       "        vertical-align: middle;\n",
       "    }\n",
       "\n",
       "    .dataframe tbody tr th {\n",
       "        vertical-align: top;\n",
       "    }\n",
       "\n",
       "    .dataframe thead th {\n",
       "        text-align: right;\n",
       "    }\n",
       "</style>\n",
       "<table border=\"1\" class=\"dataframe\">\n",
       "  <thead>\n",
       "    <tr style=\"text-align: right;\">\n",
       "      <th></th>\n",
       "      <th>frequenta_escola</th>\n",
       "      <th>altura</th>\n",
       "      <th>peso</th>\n",
       "      <th>pressao_sistolica</th>\n",
       "      <th>pressao_diastolica</th>\n",
       "      <th>n_atendimentos_atencao_primaria</th>\n",
       "      <th>n_atendimentos_hospital</th>\n",
       "    </tr>\n",
       "  </thead>\n",
       "  <tbody>\n",
       "    <tr>\n",
       "      <th>count</th>\n",
       "      <td>100000.000000</td>\n",
       "      <td>99975.000000</td>\n",
       "      <td>99816.000000</td>\n",
       "      <td>99960.000000</td>\n",
       "      <td>99983.000000</td>\n",
       "      <td>100000.000000</td>\n",
       "      <td>100000.000000</td>\n",
       "    </tr>\n",
       "    <tr>\n",
       "      <th>mean</th>\n",
       "      <td>0.158190</td>\n",
       "      <td>142.693589</td>\n",
       "      <td>63.801629</td>\n",
       "      <td>129.544068</td>\n",
       "      <td>79.378207</td>\n",
       "      <td>5.542710</td>\n",
       "      <td>7.312930</td>\n",
       "    </tr>\n",
       "    <tr>\n",
       "      <th>std</th>\n",
       "      <td>0.364921</td>\n",
       "      <td>38.659345</td>\n",
       "      <td>35.594173</td>\n",
       "      <td>21.406429</td>\n",
       "      <td>21.062140</td>\n",
       "      <td>5.204464</td>\n",
       "      <td>9.801987</td>\n",
       "    </tr>\n",
       "    <tr>\n",
       "      <th>min</th>\n",
       "      <td>0.000000</td>\n",
       "      <td>0.000000</td>\n",
       "      <td>0.000000</td>\n",
       "      <td>0.000000</td>\n",
       "      <td>0.000000</td>\n",
       "      <td>0.000000</td>\n",
       "      <td>0.000000</td>\n",
       "    </tr>\n",
       "    <tr>\n",
       "      <th>25%</th>\n",
       "      <td>0.000000</td>\n",
       "      <td>145.000000</td>\n",
       "      <td>50.700000</td>\n",
       "      <td>120.000000</td>\n",
       "      <td>70.000000</td>\n",
       "      <td>0.000000</td>\n",
       "      <td>0.000000</td>\n",
       "    </tr>\n",
       "    <tr>\n",
       "      <th>50%</th>\n",
       "      <td>0.000000</td>\n",
       "      <td>158.000000</td>\n",
       "      <td>67.900000</td>\n",
       "      <td>130.000000</td>\n",
       "      <td>80.000000</td>\n",
       "      <td>5.000000</td>\n",
       "      <td>2.000000</td>\n",
       "    </tr>\n",
       "    <tr>\n",
       "      <th>75%</th>\n",
       "      <td>0.000000</td>\n",
       "      <td>165.000000</td>\n",
       "      <td>82.000000</td>\n",
       "      <td>140.000000</td>\n",
       "      <td>87.000000</td>\n",
       "      <td>9.000000</td>\n",
       "      <td>13.000000</td>\n",
       "    </tr>\n",
       "    <tr>\n",
       "      <th>max</th>\n",
       "      <td>1.000000</td>\n",
       "      <td>810.000000</td>\n",
       "      <td>998.000000</td>\n",
       "      <td>900.000000</td>\n",
       "      <td>921.000000</td>\n",
       "      <td>32.000000</td>\n",
       "      <td>77.000000</td>\n",
       "    </tr>\n",
       "  </tbody>\n",
       "</table>\n",
       "</div>"
      ],
      "text/plain": [
       "       frequenta_escola        altura          peso  pressao_sistolica  \\\n",
       "count     100000.000000  99975.000000  99816.000000       99960.000000   \n",
       "mean           0.158190    142.693589     63.801629         129.544068   \n",
       "std            0.364921     38.659345     35.594173          21.406429   \n",
       "min            0.000000      0.000000      0.000000           0.000000   \n",
       "25%            0.000000    145.000000     50.700000         120.000000   \n",
       "50%            0.000000    158.000000     67.900000         130.000000   \n",
       "75%            0.000000    165.000000     82.000000         140.000000   \n",
       "max            1.000000    810.000000    998.000000         900.000000   \n",
       "\n",
       "       pressao_diastolica  n_atendimentos_atencao_primaria  \\\n",
       "count        99983.000000                    100000.000000   \n",
       "mean            79.378207                         5.542710   \n",
       "std             21.062140                         5.204464   \n",
       "min              0.000000                         0.000000   \n",
       "25%             70.000000                         0.000000   \n",
       "50%             80.000000                         5.000000   \n",
       "75%             87.000000                         9.000000   \n",
       "max            921.000000                        32.000000   \n",
       "\n",
       "       n_atendimentos_hospital  \n",
       "count            100000.000000  \n",
       "mean                  7.312930  \n",
       "std                   9.801987  \n",
       "min                   0.000000  \n",
       "25%                   0.000000  \n",
       "50%                   2.000000  \n",
       "75%                  13.000000  \n",
       "max                  77.000000  "
      ]
     },
     "execution_count": 4,
     "metadata": {},
     "output_type": "execute_result"
    }
   ],
   "source": [
    "# Let's take a look at the quantitative data\n",
    "\n",
    "df.describe()"
   ]
  },
  {
   "cell_type": "code",
   "execution_count": 6,
   "metadata": {},
   "outputs": [
    {
     "data": {
      "text/plain": [
       "Index(['id_paciente', 'sexo', 'obito', 'bairro', 'raca_cor', 'ocupacao',\n",
       "       'religiao', 'luz_eletrica', 'data_cadastro', 'escolaridade',\n",
       "       'nacionalidade', 'renda_familiar', 'data_nascimento',\n",
       "       'em_situacao_de_rua', 'frequenta_escola', 'meios_transporte',\n",
       "       'doencas_condicoes', 'identidade_genero', 'meios_comunicacao',\n",
       "       'orientacao_sexual', 'possui_plano_saude', 'em_caso_doenca_procura',\n",
       "       'situacao_profissional', 'vulnerabilidade_social',\n",
       "       'data_atualizacao_cadastro', 'familia_beneficiaria_auxilio_brasil',\n",
       "       'crianca_matriculada_creche_pre_escola', 'altura', 'peso',\n",
       "       'pressao_sistolica', 'pressao_diastolica',\n",
       "       'n_atendimentos_atencao_primaria', 'n_atendimentos_hospital',\n",
       "       'updated_at', 'tipo'],\n",
       "      dtype='object')"
      ]
     },
     "execution_count": 6,
     "metadata": {},
     "output_type": "execute_result"
    }
   ],
   "source": [
    "df.columns"
   ]
  },
  {
   "cell_type": "markdown",
   "metadata": {},
   "source": [
    "## Detailed description of each column:\n",
    "\n",
    "(As this project uses data from home visits in the city of Rio de Janeiro, its content is in portuguese)\n",
    "\n",
    "* **Patient ID** (`id_paciente`): Used to uniquely identify each patient of the dataset\n",
    "\n",
    "* **Sex** (`sexo`): Patient's sex\n",
    "\n",
    "* **Death** (`obito`): Flag to indicate whether the patient died\n",
    "\n",
    "* **Neighborhood** (`bairro`): Neighborhood where the patient currently lives\n",
    "\n",
    "* **Race** (`raca_cor`): Patient's race\n",
    "\n",
    "* **Occupation** (`ocupacao`): Patient's current job\n",
    "\n",
    "* **Religion** (`religiao`): Patient's religion\n",
    "\n",
    "\n",
    "* **Electricity** (`luz_eletrica`): Flag to indicate whether the patient has access to electricity\n",
    "\n",
    "* **Register Date** (`data_cadastro`): Register date of the patient\n",
    "\n",
    "* **Education** (`escolaridade`): Patient's education level\n",
    "\n",
    "* **Nationality** (`nacionalidade`): Patient's nationality\n",
    "\n",
    "* **Family Income** (`renda_familiar`): Patient's family income in minimum wages\n",
    "\n",
    "* **Birth Date** (`data_nascimento`): Patient's birth date\n",
    "\n",
    "* **Homeless** (`em_situacao_de_rua`): Flag to indicate whether the patient is homeless\n",
    "\n",
    "* **Attend School** (`frequenta_escola`): Flag to indicate whether the patient attends school\n",
    "\n",
    "* **Means of Transport** (`meios_transporte`): Means of transport used by the patient \n",
    "\n",
    "* **Deseases** (`doencas_condicoes`): Patient's deseases\n",
    "\n",
    "* **Gender Identity** (`identidade_genero`): Patient's gender identity\n",
    "\n",
    "* **Means of Communication** (`meios_comunicacao`): Means of communication used by the patient\n",
    "\n",
    "* **Sexual Orientation** (`orientacao_sexual`): Patient's sexual orientation\n",
    "\n",
    "* **Health Plan** (`possui_plano_saude`): Flag to indicate whether the patient has a health plan\n",
    "\n",
    "* **Treatment Facility** (`em_caso_doenca_procura`): Location where the patient seeks health treatment when sick\n",
    "\n",
    "* **Employment Status** (`situacao_profissional`): Patient's employment status\n",
    "\n",
    "* **Social Vulnerability** (`vulnerabilidade_social`): Flag to indicate whether the patient is in a situation of social vulnerability\n",
    "\n",
    "* **Register Update Date** (`data_atualizacao_cadastro`): Date of last register update\n",
    "\n",
    "* **Family benefits from Auxilio Brasil** (`familia_beneficiaria_auxilio_brasil`): Flag to indicate whether the patient's family benefits from the social assistance program Auxilio Brasil\n",
    "\n",
    "* **Child Enrolled in Daycare or Pre-school** (`crianca_matriculada_creche_pre_escola`): Flag to indicate whether the patient is enrolled in daycare or in a pre-school facility\n",
    "\n",
    "* **Height** (`altura`): Patient's height in centimeters\n",
    "\n",
    "* **Weight** (`peso`): Patient's weight in kilograms\n",
    "\n",
    "* **Systolic Pressure** (`pressao_sistolica`): Patient's systolic pressure in XXX\n",
    "\n",
    "* **Diastolic Pressure** (`pressao_diastolica`): Patient's diastolic pressure in XXX\n",
    "\n",
    "* **# of Primary Care Visits** (`n_atendimentos_atencao_primaria`): Number of primary care visits in the last year\n",
    "\n",
    "* **# of Hospital Visits** (`n_atendimentos_hospital`): Number of hospital visits in the last year\n",
    "\n",
    "* **Update Date** (`updated_at`): Date and time of latest update in the database\n",
    "\n",
    "* **Kind** (`tipo`): Indicates whether the data is from a routine or historical flux from the database\n"
   ]
  },
  {
   "cell_type": "markdown",
   "metadata": {},
   "source": [
    "## Análise quantitativa dos dados:"
   ]
  },
  {
   "cell_type": "code",
   "execution_count": 11,
   "metadata": {},
   "outputs": [
    {
     "data": {
      "text/html": [
       "<div>\n",
       "<style scoped>\n",
       "    .dataframe tbody tr th:only-of-type {\n",
       "        vertical-align: middle;\n",
       "    }\n",
       "\n",
       "    .dataframe tbody tr th {\n",
       "        vertical-align: top;\n",
       "    }\n",
       "\n",
       "    .dataframe thead th {\n",
       "        text-align: right;\n",
       "    }\n",
       "</style>\n",
       "<table border=\"1\" class=\"dataframe\">\n",
       "  <thead>\n",
       "    <tr style=\"text-align: right;\">\n",
       "      <th></th>\n",
       "      <th>frequenta_escola</th>\n",
       "      <th>altura</th>\n",
       "      <th>peso</th>\n",
       "      <th>pressao_sistolica</th>\n",
       "      <th>pressao_diastolica</th>\n",
       "      <th>n_atendimentos_atencao_primaria</th>\n",
       "      <th>n_atendimentos_hospital</th>\n",
       "    </tr>\n",
       "  </thead>\n",
       "  <tbody>\n",
       "    <tr>\n",
       "      <th>count</th>\n",
       "      <td>100000.000000</td>\n",
       "      <td>99975.000000</td>\n",
       "      <td>99816.000000</td>\n",
       "      <td>99960.000000</td>\n",
       "      <td>99983.000000</td>\n",
       "      <td>100000.000000</td>\n",
       "      <td>100000.000000</td>\n",
       "    </tr>\n",
       "    <tr>\n",
       "      <th>mean</th>\n",
       "      <td>0.158190</td>\n",
       "      <td>142.693589</td>\n",
       "      <td>63.801629</td>\n",
       "      <td>129.544068</td>\n",
       "      <td>79.378207</td>\n",
       "      <td>5.542710</td>\n",
       "      <td>7.312930</td>\n",
       "    </tr>\n",
       "    <tr>\n",
       "      <th>std</th>\n",
       "      <td>0.364921</td>\n",
       "      <td>38.659345</td>\n",
       "      <td>35.594173</td>\n",
       "      <td>21.406429</td>\n",
       "      <td>21.062140</td>\n",
       "      <td>5.204464</td>\n",
       "      <td>9.801987</td>\n",
       "    </tr>\n",
       "    <tr>\n",
       "      <th>min</th>\n",
       "      <td>0.000000</td>\n",
       "      <td>0.000000</td>\n",
       "      <td>0.000000</td>\n",
       "      <td>0.000000</td>\n",
       "      <td>0.000000</td>\n",
       "      <td>0.000000</td>\n",
       "      <td>0.000000</td>\n",
       "    </tr>\n",
       "    <tr>\n",
       "      <th>25%</th>\n",
       "      <td>0.000000</td>\n",
       "      <td>145.000000</td>\n",
       "      <td>50.700000</td>\n",
       "      <td>120.000000</td>\n",
       "      <td>70.000000</td>\n",
       "      <td>0.000000</td>\n",
       "      <td>0.000000</td>\n",
       "    </tr>\n",
       "    <tr>\n",
       "      <th>50%</th>\n",
       "      <td>0.000000</td>\n",
       "      <td>158.000000</td>\n",
       "      <td>67.900000</td>\n",
       "      <td>130.000000</td>\n",
       "      <td>80.000000</td>\n",
       "      <td>5.000000</td>\n",
       "      <td>2.000000</td>\n",
       "    </tr>\n",
       "    <tr>\n",
       "      <th>75%</th>\n",
       "      <td>0.000000</td>\n",
       "      <td>165.000000</td>\n",
       "      <td>82.000000</td>\n",
       "      <td>140.000000</td>\n",
       "      <td>87.000000</td>\n",
       "      <td>9.000000</td>\n",
       "      <td>13.000000</td>\n",
       "    </tr>\n",
       "    <tr>\n",
       "      <th>max</th>\n",
       "      <td>1.000000</td>\n",
       "      <td>810.000000</td>\n",
       "      <td>998.000000</td>\n",
       "      <td>900.000000</td>\n",
       "      <td>921.000000</td>\n",
       "      <td>32.000000</td>\n",
       "      <td>77.000000</td>\n",
       "    </tr>\n",
       "  </tbody>\n",
       "</table>\n",
       "</div>"
      ],
      "text/plain": [
       "       frequenta_escola        altura          peso  pressao_sistolica  \\\n",
       "count     100000.000000  99975.000000  99816.000000       99960.000000   \n",
       "mean           0.158190    142.693589     63.801629         129.544068   \n",
       "std            0.364921     38.659345     35.594173          21.406429   \n",
       "min            0.000000      0.000000      0.000000           0.000000   \n",
       "25%            0.000000    145.000000     50.700000         120.000000   \n",
       "50%            0.000000    158.000000     67.900000         130.000000   \n",
       "75%            0.000000    165.000000     82.000000         140.000000   \n",
       "max            1.000000    810.000000    998.000000         900.000000   \n",
       "\n",
       "       pressao_diastolica  n_atendimentos_atencao_primaria  \\\n",
       "count        99983.000000                    100000.000000   \n",
       "mean            79.378207                         5.542710   \n",
       "std             21.062140                         5.204464   \n",
       "min              0.000000                         0.000000   \n",
       "25%             70.000000                         0.000000   \n",
       "50%             80.000000                         5.000000   \n",
       "75%             87.000000                         9.000000   \n",
       "max            921.000000                        32.000000   \n",
       "\n",
       "       n_atendimentos_hospital  \n",
       "count            100000.000000  \n",
       "mean                  7.312930  \n",
       "std                   9.801987  \n",
       "min                   0.000000  \n",
       "25%                   0.000000  \n",
       "50%                   2.000000  \n",
       "75%                  13.000000  \n",
       "max                  77.000000  "
      ]
     },
     "execution_count": 11,
     "metadata": {},
     "output_type": "execute_result"
    }
   ],
   "source": [
    "quantitative_summary = data.describe()\n",
    "quantitative_columns = list(data.describe().columns)\n",
    "quantitative_summary"
   ]
  },
  {
   "cell_type": "markdown",
   "metadata": {},
   "source": [
    "### Podemos verificar, imediatamente, que as colunas altura e peso, assim como as colunas de pressão apresentam valores máximos e mínimos muito distantes da média, considerando o desvio padrão. Para investigar esses problemas mais a fundo, podemos utilizar gráficos de caixa:"
   ]
  },
  {
   "cell_type": "code",
   "execution_count": 14,
   "metadata": {},
   "outputs": [
    {
     "data": {
      "image/png": "[encoded data removed]",
      "text/plain": [
       "<Figure size 600x400 with 1 Axes>"
      ]
     },
     "metadata": {},
     "output_type": "display_data"
    },
    {
     "data": {
      "image/png": "[encoded data removed]",
      "text/plain": [
       "<Figure size 600x400 with 1 Axes>"
      ]
     },
     "metadata": {},
     "output_type": "display_data"
    },
    {
     "data": {
      "image/png": "[encoded data removed]",
      "text/plain": [
       "<Figure size 600x400 with 1 Axes>"
      ]
     },
     "metadata": {},
     "output_type": "display_data"
    },
    {
     "data": {
      "image/png": "[encoded data removed]",
      "text/plain": [
       "<Figure size 600x400 with 1 Axes>"
      ]
     },
     "metadata": {},
     "output_type": "display_data"
    },
    {
     "data": {
      "image/png": "[encoded data removed]",
      "text/plain": [
       "<Figure size 600x400 with 1 Axes>"
      ]
     },
     "metadata": {},
     "output_type": "display_data"
    },
    {
     "data": {
      "image/png": "[encoded data removed]",
      "text/plain": [
       "<Figure size 600x400 with 1 Axes>"
      ]
     },
     "metadata": {},
     "output_type": "display_data"
    }
   ],
   "source": [
    "for col in quantitative_columns[1:]: # excluindo a coluna frequenta_escola pois só existem valores 0 ou 1.\n",
    "\n",
    "    fig, ax = plt.subplots(figsize=(6,4), facecolor='white')\n",
    "    sns.boxplot(x=data[col])\n",
    "    plt.show()"
   ]
  },
  {
   "cell_type": "code",
   "execution_count": null,
   "metadata": {},
   "outputs": [
    {
     "name": "stdout",
     "output_type": "stream",
     "text": [
      "altura:\n",
      "Q1 =  145.0\n",
      "Q2 =  158.0\n",
      "Q3 =  165.0\n",
      "peso:\n",
      "Q1 =  50.7\n",
      "Q2 =  67.9\n",
      "Q3 =  82.0\n",
      "pressao_sistolica:\n",
      "Q1 =  120.0\n",
      "Q2 =  130.0\n",
      "Q3 =  140.0\n",
      "pressao_diastolica:\n",
      "Q1 =  70.0\n",
      "Q2 =  80.0\n",
      "Q3 =  87.0\n",
      "n_atendimentos_atencao_primaria:\n",
      "Q1 =  0.0\n",
      "Q2 =  5.0\n",
      "Q3 =  9.0\n",
      "n_atendimentos_hospital:\n",
      "Q1 =  0.0\n",
      "Q2 =  2.0\n",
      "Q3 =  13.0\n"
     ]
    }
   ],
   "source": [
    "# Obtendo os quartis para cada caso:\n",
    "\n",
    "for col in quantitative_columns[1:]:\n",
    "\n",
    "    print(col+':')\n",
    "    print('Q1 = ', data[col].quantile(0.25))\n",
    "    print('Q2 = ', data[col].quantile(0.5))\n",
    "    print('Q3 = ', data[col].quantile(0.75))"
   ]
  },
  {
   "cell_type": "markdown",
   "metadata": {},
   "source": [
    "### Primeira impressão dos dados:\n",
    "\n",
    "**Coluna altura:** parece ter sido preechida em centímetros, considerando os valores dos quartis. Existem valores muito discrepantes, acima de 400cm e abaixo de 40cm (considerando o tamanho de um bebê recém nascido). Palpite: uma provável fonte de erro seria a digitação incorreta no momento do preenchimento dos dados.\n",
    "\n",
    "\n",
    "**Coluna peso:** parece ter sido preechida em quilogramas, considerando os valores dos quartis. Existem valores muito discrepantes, acima de 200 kg e muito próximos de zero (considerando que o peso de um bebê recém nascido geralmente está na faixa de 2 a 4 quilos). Palpite: assim como no caso da coluna altura, uma provável fonte de erro seria a digitação incorreta no momento do preenchimento dos dados.\n",
    "\n",
    "**Colunas de pressão:** parecem ter sido preenchidas em mmHg pelos valores dos quartis. Como não sou da área da saúde, a princípio não saberia dizer se há valores discrepantes. Portanto, fiz uma pequena pesquisa:\n",
    "\n",
    "- Pressão diastólica: para um adulto (+18 anos), consideram-se valores normais menores que 85 mmHg [(fonte)](https://bvsms.saude.gov.br/bvs/publicacoes/III_consenso_bras_hip_arterial.pdf).\n",
    "- Pressão sistólica:para um adulto (+18 anos), consideram-se valores normais menores que 130 mmHg [(fonte)](https://bvsms.saude.gov.br/bvs/publicacoes/III_consenso_bras_hip_arterial.pdf).\n",
    "\n",
    "Portanto, temos sim valores discrepantes para as duas colunas.\n",
    "\n",
    "**Colunas de números de atendimentos:** ambas colunas se referem a atendimentos no último ano. Se considerarmos que uma pessoa teve dois atendimentos por semana, mantendo essa frequência durante todo o ano (2 dias vezes 4 semanas vezes 12 meses), ela terá feito 96 atendimentos no ano. Portanto, apesar de altos, os valores dessas duas colunas não parecem apresentar problemas, a princípio.\n",
    "\n"
   ]
  },
  {
   "cell_type": "markdown",
   "metadata": {},
   "source": [
    "### Exoplorando altura e peso conjuntamente"
   ]
  },
  {
   "cell_type": "code",
   "execution_count": 30,
   "metadata": {},
   "outputs": [
    {
     "data": {
      "image/png": "[encoded data removed]",
      "text/plain": [
       "<Figure size 600x600 with 1 Axes>"
      ]
     },
     "metadata": {},
     "output_type": "display_data"
    }
   ],
   "source": [
    "fig, ax = plt.subplots(figsize=(6,6), facecolor='white')\n",
    "sns.scatterplot(x=data['peso'], y=data['altura'])\n",
    "plt.xlabel('peso (kg)')\n",
    "plt.ylabel('altura (cm)')\n",
    "plt.show()"
   ]
  },
  {
   "cell_type": "markdown",
   "metadata": {},
   "source": [
    "Podemos tentar identificar numericamente os pontos discrepantes usando o método IQR (intervalo interquartis):"
   ]
  },
  {
   "cell_type": "code",
   "execution_count": null,
   "metadata": {},
   "outputs": [],
   "source": [
    "def calculate_IQR_lims(data, col, factor=1.5):\n",
    "\n",
    "    Q1 = data[col].quantile(0.25)\n",
    "    Q3 = data[col].quantile(0.75)\n",
    "\n",
    "    IQR = Q3 - Q1\n",
    "\n",
    "    lower_lim = Q1 - factor * IQR\n",
    "    upper_lim = Q3 + factor * IQR\n",
    "\n",
    "    return lower_lim, upper_lim"
   ]
  },
  {
   "cell_type": "code",
   "execution_count": 174,
   "metadata": {},
   "outputs": [
    {
     "name": "stdout",
     "output_type": "stream",
     "text": [
      "Limites para altura: 115 e 195 cm. Mediana: 158.0 cm.\n",
      "Limites para peso: 4 e 129 kg. Mediana: 67.9 kg.\n"
     ]
    }
   ],
   "source": [
    "limites_altura = calculate_IQR_lims(data, 'altura')\n",
    "limites_peso = calculate_IQR_lims(data, 'peso')\n",
    "\n",
    "mediana_altura, mediana_peso = data['altura'].quantile(0.5), data['peso'].quantile(0.5)\n",
    "\n",
    "print(f'Limites para altura: {round(limites_altura[0])} e {round(limites_altura[1])} cm. Mediana: {mediana_altura} cm.')\n",
    "print(f'Limites para peso: {round(limites_peso[0])} e {round(limites_peso[1])} kg. Mediana: {mediana_peso} kg.')"
   ]
  },
  {
   "cell_type": "code",
   "execution_count": null,
   "metadata": {},
   "outputs": [
    {
     "data": {
      "image/png": "[encoded data removed]",
      "text/plain": [
       "<Figure size 600x600 with 1 Axes>"
      ]
     },
     "metadata": {},
     "output_type": "display_data"
    }
   ],
   "source": [
    "fig, ax = plt.subplots(figsize=(6,6), facecolor='white')\n",
    "\n",
    "sns.scatterplot(x=data['peso'], y=data['altura'])\n",
    "\n",
    "# Acrescentando os limites para cada variável:\n",
    "\n",
    "plt.axvline(x=limites_peso[0], ls='-', color='red')\n",
    "plt.axvline(x=limites_peso[1], ls='-', color='red')\n",
    "\n",
    "plt.axhline(y=limites_altura[0], ls='--', color='red')\n",
    "plt.axhline(y=limites_altura[1], ls='--', color='red')\n",
    "\n",
    "plt.xlabel('peso (kg)')\n",
    "plt.ylabel('altura (cm)')\n",
    "plt.show()"
   ]
  },
  {
   "cell_type": "markdown",
   "metadata": {},
   "source": [
    "Agora temos uma noção melhor de quais dados podem ser, de fato, erros. Porém, como já haviamos mencionado, devemos considerar alturas e pesos de crianças também. Dessa forma, seria interessante estender o limite inferior de altura para 40 cm. Depois, podemos checar as colunas **data_nascimento** e **data_cadastro**, se isso faz sentido ou não."
   ]
  },
  {
   "cell_type": "code",
   "execution_count": 46,
   "metadata": {},
   "outputs": [
    {
     "data": {
      "image/png": "[encoded data removed]",
      "text/plain": [
       "<Figure size 600x600 with 1 Axes>"
      ]
     },
     "metadata": {},
     "output_type": "display_data"
    }
   ],
   "source": [
    "fig, ax = plt.subplots(figsize=(6,6), facecolor='white')\n",
    "\n",
    "sns.scatterplot(x=data['peso'], y=data['altura'])\n",
    "\n",
    "# Acrescentando os limites para cada variável:\n",
    "\n",
    "plt.axvline(x=limites_peso[0], ls='-', color='red')\n",
    "plt.axvline(x=limites_peso[1], ls='-', color='red')\n",
    "\n",
    "plt.axhline(y=40, ls='--', color='red')\n",
    "plt.axhline(y=limites_altura[1], ls='--', color='red')\n",
    "\n",
    "plt.xlabel('peso (kg)')\n",
    "plt.ylabel('altura (cm)')\n",
    "plt.show()"
   ]
  },
  {
   "cell_type": "markdown",
   "metadata": {},
   "source": [
    "Considerando as colunas **data_nascimento** e **data_cadastro**, nenhum dos registros obtidos faz sentido e devem ser considerados como pontos discrepantes. Além disso, podemos considerar a [tabela de IMC](https://www.msdmanuals.com/pt/profissional/multimedia/table/%C3%ADndice-de-massa-corporal-imc) para argumentar que os pontos fora da caixa contida entre os limites do IQR são medidas não representativas."
   ]
  },
  {
   "cell_type": "markdown",
   "metadata": {},
   "source": [
    "## Análise geral das colunas "
   ]
  },
  {
   "cell_type": "markdown",
   "metadata": {},
   "source": [
    "Para entender melhor como os dados estão estruturados, vamos analisar os valores únicos de cada coluna para tentar identificar alguns problemas mais evidentes. Para isso, aplicaremos a seguinte função:"
   ]
  },
  {
   "cell_type": "code",
   "execution_count": 66,
   "metadata": {},
   "outputs": [],
   "source": [
    "def analyze_table(df):\n",
    "\n",
    "    # Eliminando duplicatas exatas\n",
    "    df = df.drop_duplicates()\n",
    "    \n",
    "    # Criar um dicionário para armazenar as informações das colunas\n",
    "    column_info = {}\n",
    "\n",
    "    random_state = np.random.seed(42) # Será usado para escolher valores aleatórios de cada coluna\n",
    "    \n",
    "    for col in df.columns:\n",
    "\n",
    "        n_unique = df[col].nunique() # valores únicos\n",
    "\n",
    "        N_unique = 20 # limite de valores únicos para mostrar\n",
    "        N_example = 10 # número de valores para mostrar como exemplo dos dados\n",
    "\n",
    "        column_info[col] = {\n",
    "            'Tipo de dado detectado': df[col].dtype,\n",
    "            'Quantidade de valores únicos': n_unique,\n",
    "            'Valores únicos': df[col].unique() if n_unique <=N_unique else f'muitos (mais que {N_unique})', # se mais de 20 valores únicos foram detectados, não são mostrados\n",
    "            'Valores nulos': df[col].isnull().sum(),\n",
    "            'Total de valores': len(df[col]),\n",
    "            'Exemplo de valores': df[col].dropna().sample(min(N_example, len(df[col])), random_state=random_state).tolist()  # Amostra de valores não nulos\n",
    "        }\n",
    "    \n",
    "    # Exibir informações\n",
    "    for col, info in column_info.items():\n",
    "        print(f\"Coluna: {col}\")\n",
    "        for key, value in info.items():\n",
    "            print(f\"  {key}: {value}\")\n",
    "        print(\"-\" * 150)"
   ]
  },
  {
   "cell_type": "code",
   "execution_count": 67,
   "metadata": {},
   "outputs": [
    {
     "name": "stdout",
     "output_type": "stream",
     "text": [
      "Coluna: id_paciente\n",
      "  Tipo de dado detectado: object\n",
      "  Quantidade de valores únicos: 99000\n",
      "  Valores únicos: muitos (mais que 20)\n",
      "  Valores nulos: 0\n",
      "  Total de valores: 100000\n",
      "  Exemplo de valores: ['02adc24d-6a86-4448-b53c-ee50c312173e', '8aeada81-5ff2-4f95-b7fc-fae6813f3210', '7ce423ab-1ec4-4bf2-9690-9f95a9c50eea', '057a8c9d-7e3d-4236-84ca-d72adbe826c4', '3a0ed825-55c4-44f9-b48a-4b551a6341d0', 'e0f5b913-ec92-452f-98ce-7cdcc93c92d5', '1668f0eb-58b9-4611-8398-3ebae46388ee', 'cc009e93-9a8f-4f07-b7cc-74f1fa2d375a', '1c192344-4b5f-4474-a4c9-9308301da950', 'b02d3f3a-ed86-478c-bdb8-6d47556c0156']\n",
      "------------------------------------------------------------------------------------------------------------------------------------------------------\n",
      "Coluna: sexo\n",
      "  Tipo de dado detectado: object\n",
      "  Quantidade de valores únicos: 2\n",
      "  Valores únicos: ['male' 'female']\n",
      "  Valores nulos: 0\n",
      "  Total de valores: 100000\n",
      "  Exemplo de valores: ['female', 'female', 'male', 'female', 'female', 'female', 'female', 'male', 'female', 'female']\n",
      "------------------------------------------------------------------------------------------------------------------------------------------------------\n",
      "Coluna: obito\n",
      "  Tipo de dado detectado: object\n",
      "  Quantidade de valores únicos: 4\n",
      "  Valores únicos: ['0' 'False' '1' 'True']\n",
      "  Valores nulos: 0\n",
      "  Total de valores: 100000\n",
      "  Exemplo de valores: ['0', 'False', '0', '0', '0', '0', '0', '0', '0', '0']\n",
      "------------------------------------------------------------------------------------------------------------------------------------------------------\n",
      "Coluna: bairro\n",
      "  Tipo de dado detectado: object\n",
      "  Quantidade de valores únicos: 748\n",
      "  Valores únicos: muitos (mais que 20)\n",
      "  Valores nulos: 0\n",
      "  Total de valores: 100000\n",
      "  Exemplo de valores: ['Penha', 'Campo Grande', 'Anchieta', 'Deodoro', 'Gardênia Azul', 'Paciência', 'Guaratiba', 'Tijuca', 'Centro', 'Realengo']\n",
      "------------------------------------------------------------------------------------------------------------------------------------------------------\n",
      "Coluna: raca_cor\n",
      "  Tipo de dado detectado: object\n",
      "  Quantidade de valores únicos: 6\n",
      "  Valores únicos: ['Branca' 'Parda' 'Preta' 'Amarela' 'Não' 'Indígena']\n",
      "  Valores nulos: 0\n",
      "  Total de valores: 100000\n",
      "  Exemplo de valores: ['Parda', 'Parda', 'Parda', 'Branca', 'Preta', 'Parda', 'Preta', 'Branca', 'Parda', 'Branca']\n",
      "------------------------------------------------------------------------------------------------------------------------------------------------------\n",
      "Coluna: ocupacao\n",
      "  Tipo de dado detectado: object\n",
      "  Quantidade de valores únicos: 1355\n",
      "  Valores únicos: muitos (mais que 20)\n",
      "  Valores nulos: 0\n",
      "  Total de valores: 100000\n",
      "  Exemplo de valores: ['Não se aplica', 'Vigia', 'Não se aplica', 'Empregado Doméstico Diarista', 'Digitador', 'Supervisor de Vendas Comercial', 'Empregado Doméstico Diarista', 'Não se aplica', 'Atendente de Lanchonete', 'Não se aplica']\n",
      "------------------------------------------------------------------------------------------------------------------------------------------------------\n",
      "Coluna: religiao\n",
      "  Tipo de dado detectado: object\n",
      "  Quantidade de valores únicos: 16\n",
      "  Valores únicos: ['Sem religião' 'Evangélica' 'Católica' 'Outra' 'Espírita'\n",
      " 'Religião de matriz africana' 'Não' 'Budismo' 'Judaísmo' 'ESB ALMIRANTE'\n",
      " 'Candomblé' 'Islamismo' '10 EAP 01' 'Acomp. Cresc. e Desenv. da Criança'\n",
      " 'ORQUIDEA' 'Sim']\n",
      "  Valores nulos: 0\n",
      "  Total de valores: 100000\n",
      "  Exemplo de valores: ['Católica', 'Sem religião', 'Outra', 'Católica', 'Sem religião', 'Evangélica', 'Católica', 'Evangélica', 'Sem religião', 'Budismo']\n",
      "------------------------------------------------------------------------------------------------------------------------------------------------------\n",
      "Coluna: luz_eletrica\n",
      "  Tipo de dado detectado: object\n",
      "  Quantidade de valores únicos: 4\n",
      "  Valores únicos: ['True' '1' '0' 'False']\n",
      "  Valores nulos: 0\n",
      "  Total de valores: 100000\n",
      "  Exemplo de valores: ['1', 'True', '1', '1', '1', '1', '0', '1', '1', '1']\n",
      "------------------------------------------------------------------------------------------------------------------------------------------------------\n",
      "Coluna: data_cadastro\n",
      "  Tipo de dado detectado: object\n",
      "  Quantidade de valores únicos: 70374\n",
      "  Valores únicos: muitos (mais que 20)\n",
      "  Valores nulos: 0\n",
      "  Total de valores: 100000\n",
      "  Exemplo de valores: ['2019-05-30 14:04:20.200', '2021-08-13 00:00:00.000', '2023-12-05 12:52:11.700', '2021-11-19 12:00:00', '2021-06-14 00:00:00.000', '2022-11-22 09:37:54.067', '2019-05-07 00:00:00.000', '2023-05-02 08:27:16.877', '2018-08-14 00:00:00.000', '2021-09-22 00:00:00.000']\n",
      "------------------------------------------------------------------------------------------------------------------------------------------------------\n",
      "Coluna: escolaridade\n",
      "  Tipo de dado detectado: object\n",
      "  Quantidade de valores únicos: 11\n",
      "  Valores únicos: ['Fundamental Incompleto' 'Médio Incompleto' 'Fundamental Completo'\n",
      " 'Alfabetizado' 'Médio Completo' 'Não sabe ler/escrever'\n",
      " 'Superior completo' 'Mestrado' 'Superior incompleto' 'Doutorado'\n",
      " 'Especialização/Residência']\n",
      "  Valores nulos: 0\n",
      "  Total de valores: 100000\n",
      "  Exemplo de valores: ['Superior incompleto', 'Alfabetizado', 'Fundamental Incompleto', 'Médio Completo', 'Médio Completo', 'Fundamental Completo', 'Médio Completo', 'Fundamental Incompleto', 'Médio Completo', 'Fundamental Completo']\n",
      "------------------------------------------------------------------------------------------------------------------------------------------------------\n",
      "Coluna: nacionalidade\n",
      "  Tipo de dado detectado: object\n",
      "  Quantidade de valores únicos: 3\n",
      "  Valores únicos: ['Brasileira' 'Estrangeiro' 'Naturalizado']\n",
      "  Valores nulos: 0\n",
      "  Total de valores: 100000\n",
      "  Exemplo de valores: ['Brasileira', 'Brasileira', 'Brasileira', 'Brasileira', 'Brasileira', 'Brasileira', 'Brasileira', 'Brasileira', 'Brasileira', 'Brasileira']\n",
      "------------------------------------------------------------------------------------------------------------------------------------------------------\n",
      "Coluna: renda_familiar\n",
      "  Tipo de dado detectado: object\n",
      "  Quantidade de valores únicos: 9\n",
      "  Valores únicos: ['2 Salários Mínimos' '1 Salário Mínimo' '1/2 Salário Mínimo'\n",
      " '4 Salários Mínimos' '3 Salários Mínimos' '1/4 Salário Mínimo'\n",
      " 'Mais de 4 Salários Mínimos' 'Manhã' 'Internet']\n",
      "  Valores nulos: 0\n",
      "  Total de valores: 100000\n",
      "  Exemplo de valores: ['1 Salário Mínimo', '1 Salário Mínimo', '3 Salários Mínimos', '2 Salários Mínimos', '2 Salários Mínimos', '2 Salários Mínimos', '2 Salários Mínimos', '4 Salários Mínimos', '1 Salário Mínimo', '1/4 Salário Mínimo']\n",
      "------------------------------------------------------------------------------------------------------------------------------------------------------\n",
      "Coluna: data_nascimento\n",
      "  Tipo de dado detectado: object\n",
      "  Quantidade de valores únicos: 30401\n",
      "  Valores únicos: muitos (mais que 20)\n",
      "  Valores nulos: 0\n",
      "  Total de valores: 100000\n",
      "  Exemplo de valores: ['1955-09-19', '1960-12-14', '1977-08-05', '2022-05-05', '1978-11-15', '2006-06-12', '1954-05-24', '1976-06-06', '1964-03-11', '2016-04-27']\n",
      "------------------------------------------------------------------------------------------------------------------------------------------------------\n",
      "Coluna: em_situacao_de_rua\n",
      "  Tipo de dado detectado: object\n",
      "  Quantidade de valores únicos: 3\n",
      "  Valores únicos: ['0' 'False' '1']\n",
      "  Valores nulos: 0\n",
      "  Total de valores: 100000\n",
      "  Exemplo de valores: ['0', '0', '0', 'False', '0', '0', '0', '0', '0', '0']\n",
      "------------------------------------------------------------------------------------------------------------------------------------------------------\n",
      "Coluna: frequenta_escola\n",
      "  Tipo de dado detectado: int64\n",
      "  Quantidade de valores únicos: 2\n",
      "  Valores únicos: [0 1]\n",
      "  Valores nulos: 0\n",
      "  Total de valores: 100000\n",
      "  Exemplo de valores: [0, 0, 1, 0, 0, 1, 0, 0, 1, 0]\n",
      "------------------------------------------------------------------------------------------------------------------------------------------------------\n",
      "Coluna: meios_transporte\n",
      "  Tipo de dado detectado: object\n",
      "  Quantidade de valores únicos: 655\n",
      "  Valores únicos: muitos (mais que 20)\n",
      "  Valores nulos: 0\n",
      "  Total de valores: 100000\n",
      "  Exemplo de valores: ['Carro, Ônibus', 'Carro, Ônibus, Trem', '[]', 'Bicicleta, Carro, Ônibus', 'Carro, Ônibus', 'Alternativo', 'Alternativo', 'Ônibus', 'Carro, Ônibus', 'Carro, Ônibus']\n",
      "------------------------------------------------------------------------------------------------------------------------------------------------------\n",
      "Coluna: doencas_condicoes\n",
      "  Tipo de dado detectado: object\n",
      "  Quantidade de valores únicos: 277\n",
      "  Valores únicos: muitos (mais que 20)\n",
      "  Valores nulos: 0\n",
      "  Total de valores: 100000\n",
      "  Exemplo de valores: ['Diabetes', '[]', '[]', 'Hipertensão', 'Diabetes, Hipertensão', '[\"Hipertens\\\\u00e3o\"]', '[]', '[\"Hipertens\\\\u00e3o\"]', 'Diabetes, Hipertensão', '[]']\n",
      "------------------------------------------------------------------------------------------------------------------------------------------------------\n",
      "Coluna: identidade_genero\n",
      "  Tipo de dado detectado: object\n",
      "  Quantidade de valores únicos: 10\n",
      "  Valores únicos: ['Cis' 'Não' 'Outro' 'Homem transexual' 'Mulher transexual'\n",
      " 'Heterossexual' 'Homossexual (gay / lésbica)' 'Bissexual' 'Sim'\n",
      " 'Travesti' nan]\n",
      "  Valores nulos: 952\n",
      "  Total de valores: 100000\n",
      "  Exemplo de valores: ['Cis', 'Não', 'Cis', 'Cis', 'Não', 'Cis', 'Não', 'Não', 'Homem transexual', 'Não']\n",
      "------------------------------------------------------------------------------------------------------------------------------------------------------\n",
      "Coluna: meios_comunicacao\n",
      "  Tipo de dado detectado: object\n",
      "  Quantidade de valores únicos: 325\n",
      "  Valores únicos: muitos (mais que 20)\n",
      "  Valores nulos: 0\n",
      "  Total de valores: 100000\n",
      "  Exemplo de valores: ['Televisão', 'Internet, Televisão', 'Rádio', 'Internet, Revista, Televisão', '[]', 'Internet, Rádio, Televisão', 'Internet', 'Internet, Rádio, Televisão', 'Televisão', 'Internet, Rádio, Televisão']\n",
      "------------------------------------------------------------------------------------------------------------------------------------------------------\n",
      "Coluna: orientacao_sexual\n",
      "  Tipo de dado detectado: object\n",
      "  Quantidade de valores únicos: 4\n",
      "  Valores únicos: ['Heterossexual' 'Homossexual (gay / lésbica)' 'Outro' 'Bissexual']\n",
      "  Valores nulos: 0\n",
      "  Total de valores: 100000\n",
      "  Exemplo de valores: ['Heterossexual', 'Heterossexual', 'Heterossexual', 'Heterossexual', 'Heterossexual', 'Heterossexual', 'Heterossexual', 'Heterossexual', 'Heterossexual', 'Heterossexual']\n",
      "------------------------------------------------------------------------------------------------------------------------------------------------------\n",
      "Coluna: possui_plano_saude\n",
      "  Tipo de dado detectado: object\n",
      "  Quantidade de valores únicos: 4\n",
      "  Valores únicos: ['False' '1' '0' 'True']\n",
      "  Valores nulos: 0\n",
      "  Total de valores: 100000\n",
      "  Exemplo de valores: ['0', '0', 'False', '0', '0', '0', '0', '0', '0', '0']\n",
      "------------------------------------------------------------------------------------------------------------------------------------------------------\n",
      "Coluna: em_caso_doenca_procura\n",
      "  Tipo de dado detectado: object\n",
      "  Quantidade de valores únicos: 168\n",
      "  Valores únicos: muitos (mais que 20)\n",
      "  Valores nulos: 0\n",
      "  Total de valores: 100000\n",
      "  Exemplo de valores: ['Farmácia, Hospital Público, Unidade de Saúde', '[\"Hospital P\\\\u00fablico\"]', 'Hospital Público', '[]', 'Unidade de Saúde', 'Unidade de Saúde', 'Farmácia, Hospital Público, Rede Privada, Unidade de Saúde', 'Hospital Público, Rede Privada, Unidade de Saúde', 'Hospital Público, Unidade de Saúde', 'Hospital Público']\n",
      "------------------------------------------------------------------------------------------------------------------------------------------------------\n",
      "Coluna: situacao_profissional\n",
      "  Tipo de dado detectado: object\n",
      "  Quantidade de valores únicos: 13\n",
      "  Valores únicos: ['Emprego Formal' 'Autônomo com previdência social' 'Não se aplica'\n",
      " 'Não trabalha' 'Desempregado' 'Outro' 'Autônomo' 'Emprego Informal'\n",
      " 'Autônomo sem previdência social' 'Pensionista / Aposentado' 'Empregador'\n",
      " 'SMS CAPS DIRCINHA E LINDA BATISTA AP 33' 'Médico Urologista']\n",
      "  Valores nulos: 0\n",
      "  Total de valores: 100000\n",
      "  Exemplo de valores: ['Não trabalha', 'Pensionista / Aposentado', 'Desempregado', 'Desempregado', 'Emprego Formal', 'Emprego Informal', 'Empregador', 'Autônomo', 'Emprego Formal', 'Desempregado']\n",
      "------------------------------------------------------------------------------------------------------------------------------------------------------\n",
      "Coluna: vulnerabilidade_social\n",
      "  Tipo de dado detectado: object\n",
      "  Quantidade de valores únicos: 4\n",
      "  Valores únicos: ['0' '1' 'False' 'True']\n",
      "  Valores nulos: 0\n",
      "  Total de valores: 100000\n",
      "  Exemplo de valores: ['0', '0', '0', '0', '0', '0', '0', '0', '0', '0']\n",
      "------------------------------------------------------------------------------------------------------------------------------------------------------\n",
      "Coluna: data_atualizacao_cadastro\n",
      "  Tipo de dado detectado: object\n",
      "  Quantidade de valores únicos: 85298\n",
      "  Valores únicos: muitos (mais que 20)\n",
      "  Valores nulos: 0\n",
      "  Total de valores: 100000\n",
      "  Exemplo de valores: ['2023-12-15 14:39:55.217', '2021-08-06 00:00:00.000', '2022-11-29 11:30:04.900', '2024-09-02 09:57:02.380', '2022-07-10 07:22:11', '2023-04-28 08:40:38.863', '2024-08-06 11:39:36.453', '2022-07-11 03:04:09.750', '2023-11-16 13:34:23', '2021-11-10 00:00:00.000']\n",
      "------------------------------------------------------------------------------------------------------------------------------------------------------\n",
      "Coluna: familia_beneficiaria_auxilio_brasil\n",
      "  Tipo de dado detectado: object\n",
      "  Quantidade de valores únicos: 4\n",
      "  Valores únicos: ['0' '1' 'False' 'True']\n",
      "  Valores nulos: 0\n",
      "  Total de valores: 100000\n",
      "  Exemplo de valores: ['0', '0', '0', '0', '0', '0', 'False', '0', '0', '0']\n",
      "------------------------------------------------------------------------------------------------------------------------------------------------------\n",
      "Coluna: crianca_matriculada_creche_pre_escola\n",
      "  Tipo de dado detectado: object\n",
      "  Quantidade de valores únicos: 4\n",
      "  Valores únicos: ['0' '1' 'False' 'True']\n",
      "  Valores nulos: 0\n",
      "  Total de valores: 100000\n",
      "  Exemplo de valores: ['0', '0', '0', '1', '0', 'False', '1', '1', '1', 'False']\n",
      "------------------------------------------------------------------------------------------------------------------------------------------------------\n",
      "Coluna: altura\n",
      "  Tipo de dado detectado: float64\n",
      "  Quantidade de valores únicos: 620\n",
      "  Valores únicos: muitos (mais que 20)\n",
      "  Valores nulos: 25\n",
      "  Total de valores: 100000\n",
      "  Exemplo de valores: [170.0, 181.0, 182.0, 170.0, 173.0, 53.0, 172.0, 81.0, 159.5, 80.0]\n",
      "------------------------------------------------------------------------------------------------------------------------------------------------------\n",
      "Coluna: peso\n",
      "  Tipo de dado detectado: float64\n",
      "  Quantidade de valores únicos: 4055\n",
      "  Valores únicos: muitos (mais que 20)\n",
      "  Valores nulos: 184\n",
      "  Total de valores: 100000\n",
      "  Exemplo de valores: [83.2, 63.0, 77.2, 70.7, 13.6, 77.6, 44.0, 46.9, 75.9, 5.18]\n",
      "------------------------------------------------------------------------------------------------------------------------------------------------------\n",
      "Coluna: pressao_sistolica\n",
      "  Tipo de dado detectado: float64\n",
      "  Quantidade de valores únicos: 202\n",
      "  Valores únicos: muitos (mais que 20)\n",
      "  Valores nulos: 40\n",
      "  Total de valores: 100000\n",
      "  Exemplo de valores: [150.0, 130.0, 130.0, 130.0, 110.0, 150.0, 130.0, 130.0, 141.0, 120.0]\n",
      "------------------------------------------------------------------------------------------------------------------------------------------------------\n",
      "Coluna: pressao_diastolica\n",
      "  Tipo de dado detectado: float64\n",
      "  Quantidade de valores únicos: 173\n",
      "  Valores únicos: muitos (mais que 20)\n",
      "  Valores nulos: 17\n",
      "  Total de valores: 100000\n",
      "  Exemplo de valores: [90.0, 80.0, 60.0, 90.0, 80.0, 80.0, 80.0, 70.0, 70.0, 80.0]\n",
      "------------------------------------------------------------------------------------------------------------------------------------------------------\n",
      "Coluna: n_atendimentos_atencao_primaria\n",
      "  Tipo de dado detectado: int64\n",
      "  Quantidade de valores únicos: 32\n",
      "  Valores únicos: muitos (mais que 20)\n",
      "  Valores nulos: 0\n",
      "  Total de valores: 100000\n",
      "  Exemplo de valores: [0, 10, 12, 13, 14, 10, 14, 0, 12, 14]\n",
      "------------------------------------------------------------------------------------------------------------------------------------------------------\n",
      "Coluna: n_atendimentos_hospital\n",
      "  Tipo de dado detectado: int64\n",
      "  Quantidade de valores únicos: 66\n",
      "  Valores únicos: muitos (mais que 20)\n",
      "  Valores nulos: 0\n",
      "  Total de valores: 100000\n",
      "  Exemplo de valores: [11, 0, 16, 18, 0, 0, 0, 29, 0, 18]\n",
      "------------------------------------------------------------------------------------------------------------------------------------------------------\n",
      "Coluna: updated_at\n",
      "  Tipo de dado detectado: object\n",
      "  Quantidade de valores únicos: 64266\n",
      "  Valores únicos: muitos (mais que 20)\n",
      "  Valores nulos: 0\n",
      "  Total de valores: 100000\n",
      "  Exemplo de valores: ['2021-10-25 00:00:00.000', '2022-03-10 15:42:16.310', '2022-11-04 10:03:46.287', '2021-11-08 12:00:00', '2022-02-28 19:42:54.903', '2020-09-17 00:00:00.000', '2020-07-31 00:00:00.000', '2023-06-09 09:25:02.817', '2022-03-09 14:52:33.587', '2022-10-10 07:59:58.233']\n",
      "------------------------------------------------------------------------------------------------------------------------------------------------------\n",
      "Coluna: tipo\n",
      "  Tipo de dado detectado: object\n",
      "  Quantidade de valores únicos: 2\n",
      "  Valores únicos: ['historico' 'rotineiro']\n",
      "  Valores nulos: 0\n",
      "  Total de valores: 100000\n",
      "  Exemplo de valores: ['historico', 'historico', 'rotineiro', 'historico', 'historico', 'historico', 'historico', 'historico', 'historico', 'historico']\n",
      "------------------------------------------------------------------------------------------------------------------------------------------------------\n"
     ]
    }
   ],
   "source": [
    "analyze_table(data)"
   ]
  },
  {
   "cell_type": "markdown",
   "metadata": {},
   "source": [
    "---"
   ]
  },
  {
   "cell_type": "markdown",
   "metadata": {},
   "source": [
    "## Separando a análise em colunas com erros parecidos"
   ]
  },
  {
   "cell_type": "markdown",
   "metadata": {},
   "source": [
    "### Erros do tipo 0, 1, True, False"
   ]
  },
  {
   "cell_type": "markdown",
   "metadata": {},
   "source": [
    "As colunas: \n",
    "- **obito**\n",
    "- **luz_eletrica**\n",
    "- **em_situacao_de_rua**\n",
    "- **possui_plano_saude**\n",
    "- **vulnerabilidade_social**\n",
    "- **familia_beneficiaria_auxilio_brasil**\n",
    "- **crianca_matriculada_creche_pre_escola** \n",
    "\n",
    "**Problema:** Parecem apresentar o mesmo tipo de erro: são colunas cuja resposta contém valores de \"Sim\" ou \"Não\", representados pelos números 1 e 0, respectivamente, ou True e False.\n",
    "\n",
    "**Possível causa do problema/Sugestões para próxima coleta:** Provavelmente o sistema de coleta não conseguiu identificar os valores True e False como booleanos, os tratando como strings. Orientar os agentes de saúde para dar de entrada apenas 0 ou 1.\n",
    "\n",
    "**Solução:** Padronizar os valores para os números inteiros 0 e 1."
   ]
  },
  {
   "cell_type": "markdown",
   "metadata": {},
   "source": [
    "---"
   ]
  },
  {
   "cell_type": "markdown",
   "metadata": {},
   "source": [
    "### Erros do tipo data"
   ]
  },
  {
   "cell_type": "markdown",
   "metadata": {},
   "source": [
    "As colunas: \n",
    "- **data_cadastro**\n",
    "- **data_nascimento**\n",
    "- **data_atualizacao_cadastro**\n",
    "- **updated_at**\n",
    "\n",
    "**Problema:** Não necessariamente apresentam valores errados, mas não estão padronizados.\n",
    "\n",
    "**Possível causa do problema/Sugestões para próxima coleta:** O sistema não coletou corretamente os milissegundos em algumas das colunas de data. \n",
    "\n",
    "**Solução:** Transformar os valores para o tipo _datetime_, para futuras análises de estatística inferencial."
   ]
  },
  {
   "cell_type": "markdown",
   "metadata": {},
   "source": [
    "---"
   ]
  },
  {
   "cell_type": "markdown",
   "metadata": {},
   "source": [
    "### Erros do tipo listas como strings, formatação unicode inadequada e valores vazios"
   ]
  },
  {
   "cell_type": "markdown",
   "metadata": {},
   "source": [
    "As colunas: \n",
    "- **meios_transporte**\n",
    "- **doencas_condicoes**\n",
    "- **meios_comunicacao**\n",
    "- **em_caso_doenca_procura**\n",
    "\n",
    "**Problema:** formatação incorreta (caracteres como acentos são retornados como código unicode), valores vazios que na verdade são do tipo '[]', listas dentro de strings.\n",
    "\n",
    "**Possível causa do problema/Sugestões para próxima coleta:** O sistema de coleta não compreende corretamente quando uma lista de valores é dada de entrada. \n",
    "\n",
    "**Solução:** Padronizar os dados."
   ]
  },
  {
   "cell_type": "markdown",
   "metadata": {},
   "source": [
    "## Colunas com erros específicos"
   ]
  },
  {
   "cell_type": "markdown",
   "metadata": {},
   "source": [
    "### Colunas identidade_genero e orientacao_sexual:\n",
    "\n",
    "**Problema:** Em ambas, existem registros do tipo 'Homossexual (gay / lésbica)'. Na coluna identidade_genero, existem vários valores nulos, alguns valores 'Não' e 'Sim'.\n",
    "\n",
    "**Possível causa do problema/Sugestões para próxima coleta:** Orientar o profissional de saúde para inserir apenas 'Homossexual' nos casos gay ou lésbica. As respostas 'Sim' e 'Não' podem estar relacionadas à falta de informação da pessoa que está sendo entrevistada ou a má interpretação da pessoa que está coletando os dados.\n",
    "\n",
    "**Solução:** Transformar 'Sim', 'Não' e valores nulos para 'Não informado' e simplificar 'Homossexual (gay / lésbica)' para 'Homossexual'."
   ]
  },
  {
   "cell_type": "markdown",
   "metadata": {},
   "source": [
    "---"
   ]
  },
  {
   "cell_type": "markdown",
   "metadata": {},
   "source": [
    "### Coluna raca_cor:\n",
    "\n",
    "**Problema:** Algumas linhas com valor 'Não'. \n",
    "\n",
    "**Possível causa do problema/Sugestões para próxima coleta:** Nesse caso, pode ter acontecido do entrevistado não ter se sentido confortável em informar a raça.\n",
    "\n",
    "**Solução:** Transformar 'Não' para 'Não deseja informar'."
   ]
  },
  {
   "cell_type": "markdown",
   "metadata": {},
   "source": [
    "---"
   ]
  },
  {
   "cell_type": "markdown",
   "metadata": {},
   "source": [
    "### Coluna ocupacao:\n",
    "\n",
    "**Problema:** Algumas linhas com subcategoria do trabalho entre parêntesis.\n",
    "\n",
    "**Possível causa do problema/Sugestões para próxima coleta:** Como não existe uma coluna para a categoria de trabalho, a informação ficou encapsulada.\n",
    "\n",
    "**Solução:** Extrair a informação da categoria quando houver e criar a coluna **categoria_ocupacao**."
   ]
  },
  {
   "cell_type": "markdown",
   "metadata": {},
   "source": [
    "---"
   ]
  },
  {
   "cell_type": "markdown",
   "metadata": {},
   "source": [
    "### Coluna religiao:\n",
    "\n",
    "**Problema:** Valores aleatórios ['Acomp. Cresc. e Desenv. da Criança', 'ORQUIDEA', 'ESB ALMIRANTE', '10 EAP 01'], 'Não', 'Sim', 'Sem religião'.\n",
    "\n",
    "**Possível causa do problema/Sugestões para próxima coleta:** Provavelmente o agente de saúde preencheu o campo errado. \n",
    "\n",
    "**Solução:** Transformar valores aleatórios em 'Sem informação', 'Não' em 'Sem religião' e 'Sim' em 'Outra'."
   ]
  },
  {
   "cell_type": "markdown",
   "metadata": {},
   "source": [
    "---"
   ]
  },
  {
   "cell_type": "markdown",
   "metadata": {},
   "source": [
    "### Coluna escolaridade:\n",
    "\n",
    "**Problema:** 'Não sabe ler/escrever', 'Especialização/Residência'\n",
    "\n",
    "**Possível causa do problema/Sugestões para próxima coleta:** O agente de saúde não foi devidamente orientado para preencher os dados. Valores com '/' dificultam a análise de dados. Orientar o agente para escrever apenas uma categoria.\n",
    "\n",
    "**Solução:** Transformar valores 'Não sabe ler/escrever' em 'Iletrado' e 'Especialização/Residência' em 'Especialização ou Residência'."
   ]
  },
  {
   "cell_type": "markdown",
   "metadata": {},
   "source": [
    "---"
   ]
  },
  {
   "cell_type": "markdown",
   "metadata": {},
   "source": [
    "### Coluna situacao_profissional:\n",
    "\n",
    "**Problema:** 'Não se aplica' e 'Não trabalha' (mesma informação com duas tags diferentes), diferenciação em ter ou não ter previdência social, entrada incorreta: 'SMS CAPS DIRCINHA E LINDA BATISTA AP 33', detalhamento desnecessário: 'Médico Urologista', uso de '/': 'Pensionista / Aposentado'.\n",
    "\n",
    "**Possível causa do problema/Sugestões para próxima coleta:** O agente de saúde não foi devidamente orientado para preencher os dados. Houve um erro de preenchimento de coluna para o valor 'SMS CAPS DIRCINHA E LINDA BATISTA AP 33'. A separação entre emprego formal e informal não enquadrou o caso 'Médico Urologista'. Orientar agente para inserir apenas uma categoria, por exemplo: 'Pensionista' OU 'Aposentado'.\n",
    "\n",
    "**Solução:** Transformar valores 'Não se aplica' e 'Não trabalha' em 'Desempregado', 'SMS CAPS DIRCINHA E LINDA BATISTA AP 33' em 'Não informado', 'Médico Urologista' em 'Emprego Formal' e 'Pensionista / Aposentado' em 'Pensionista ou Aposentado'. Criar a coluna **previdencia_social** para conter informação se a pessoa tem ou não previdência social e estabelecer regras para cada categoria."
   ]
  },
  {
   "cell_type": "markdown",
   "metadata": {},
   "source": [
    "---"
   ]
  },
  {
   "cell_type": "markdown",
   "metadata": {},
   "source": [
    "### Coluna renda_familiar:\n",
    "\n",
    "**Problema:** medida em salários mínimos. Categorias erradas: 'Manhã' e 'Internet'.\n",
    "\n",
    "**Possível causa do problema/Sugestões para próxima coleta:** Preenchimento da coluna errada pelo agente de saúde para as entradas 'Manhã' e 'Internet'. \n",
    "\n",
    "**Solução:** Ao invés de escrever 'Salário mínimo' em cada entrada, manter apenas o valor numério, transformando frações em float, quando necessário. Substituir o valor 'Mais de 4 Salários Mínimos' por '+4'."
   ]
  },
  {
   "cell_type": "markdown",
   "metadata": {},
   "source": [
    "---"
   ]
  },
  {
   "cell_type": "markdown",
   "metadata": {},
   "source": [
    "### Coluna id_paciente:\n",
    "\n",
    "**Problema:** valores repetidos (duplicatas e triplicatas).\n",
    "\n",
    "**Possível causa do problema/Sugestões para próxima coleta:** pode ter ocorrido do agente de saúde ter coletado os dados usando a mesma ID do entrevistado anterior, por falta de atenção. O sistema de coleta deveria colocar uma trava de segurança para não permitir valores repetidos nessa coluna.\n",
    "\n",
    "**Solução:** A solução para essa coluna é mais aprofundada, devido ao significado dessa coluna. Idealmente, cada ID deveria representar um único paciente. No entanto, com entradas repetidas, temos dois possíveis cenários:\n",
    "\n",
    "1) É, de fato, o mesmo paciente, mas com registro atualizado;\n",
    "2) Se trata de outra pessoa, mas com o mesmo ID;\n",
    "\n",
    "Para investigar isso, a melhor abordagem seria verificar a quantidade de colunas com valores diferentes para cada duplicata. Se a **data_nascimento** variar, então trata-se do segundo cenário. Do contrário, o primeiro cenário deve ser considerado. Cabe aqui uma discussão interessante, no contexto dos pacientes transgêneros que podem ter mudado de sexo entre duas visitas diferentes. Para isso, ressalto a importância do preenchimento correto da coluna 'identidade_genero'.\n",
    "\n",
    "A solução para o primeiro cenário é deletar o(s) registro(s) antigo(s), mantendo apenas o atual, filtrando pela coluna **data_atualizacao_cadastro**. Já a solução para o segundo cenário é gerar um novo ID e fazer a substituição para os valores repetidos. Como o banco de dados está em constante atualização, essa solução não é a mais adequada, mas pode ser um paliativo até o problema do sistema se resolver.\n",
    "\n",
    "Outro fator a se considerar, é se todas as entradas dessa coluna obedecem o padrão UUID estabelecido."
   ]
  },
  {
   "cell_type": "markdown",
   "metadata": {},
   "source": [
    "---"
   ]
  },
  {
   "cell_type": "markdown",
   "metadata": {},
   "source": [
    "## Colunas sem erros aparentes"
   ]
  },
  {
   "cell_type": "markdown",
   "metadata": {},
   "source": [
    "- **sexo**\n",
    "- **bairro**\n",
    "- **nacionalidade**\n",
    "- **frequenta_escola**\n",
    "- **tipo**\n",
    "\n",
    "Todas apresentam valores únicos sem problemas de formatação ou contexto."
   ]
  },
  {
   "cell_type": "markdown",
   "metadata": {},
   "source": [
    "---"
   ]
  }
 ],
 "metadata": {
  "kernelspec": {
   "display_name": "base",
   "language": "python",
   "name": "python3"
  },
  "language_info": {
   "codemirror_mode": {
    "name": "ipython",
    "version": 3
   },
   "file_extension": ".py",
   "mimetype": "text/x-python",
   "name": "python",
   "nbconvert_exporter": "python",
   "pygments_lexer": "ipython3",
   "version": "3.8.10"
  }
 },
 "nbformat": 4,
 "nbformat_minor": 2
}
